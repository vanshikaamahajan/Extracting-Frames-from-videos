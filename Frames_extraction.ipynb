{
  "nbformat": 4,
  "nbformat_minor": 0,
  "metadata": {
    "colab": {
      "provenance": [],
      "authorship_tag": "ABX9TyMULZaN7UtJtxLPr9tq+7CY",
      "include_colab_link": true
    },
    "kernelspec": {
      "name": "python3",
      "display_name": "Python 3"
    },
    "language_info": {
      "name": "python"
    }
  },
  "cells": [
    {
      "cell_type": "markdown",
      "metadata": {
        "id": "view-in-github",
        "colab_type": "text"
      },
      "source": [
        "<a href=\"https://colab.research.google.com/github/vanshikaamahajan/Extracting-Frames-from-videos/blob/main/Frames_extraction.ipynb\" target=\"_parent\"><img src=\"https://colab.research.google.com/assets/colab-badge.svg\" alt=\"Open In Colab\"/></a>"
      ]
    },
    {
      "cell_type": "markdown",
      "source": [
        "# **EXTRACTING FRAMES FROM VIDEO**"
      ],
      "metadata": {
        "id": "Ottn9U0ZRPLh"
      }
    },
    {
      "cell_type": "markdown",
      "source": [
        "Importing open cv and os"
      ],
      "metadata": {
        "id": "faOGCF0sQbLB"
      }
    },
    {
      "cell_type": "code",
      "source": [
        "# Importing all necessary libraries\n",
        "import cv2\n",
        "import os"
      ],
      "metadata": {
        "id": "L4cFrD4dP0U_"
      },
      "execution_count": null,
      "outputs": []
    },
    {
      "cell_type": "markdown",
      "source": [
        "Reading the video"
      ],
      "metadata": {
        "id": "6JcCLl7mQh6W"
      }
    },
    {
      "cell_type": "code",
      "source": [
        "# Read the video from specified path\n",
        "capturing = cv2.VideoCapture(\"/content/test.mp4\")"
      ],
      "metadata": {
        "id": "sXRl0xm7P5Yo"
      },
      "execution_count": null,
      "outputs": []
    },
    {
      "cell_type": "markdown",
      "source": [
        "Making a folder for saving the frames"
      ],
      "metadata": {
        "id": "i9bBINSNQmPl"
      }
    },
    {
      "cell_type": "code",
      "source": [
        "try:\n",
        "\n",
        "    # creating a folder named data\n",
        "    if not os.path.exists('data frames'):\n",
        "        os.makedirs('data frames')\n",
        "\n",
        "# if not created then raise error\n",
        "except OSError:\n",
        "    print ('Error: Directory couldnt be created.')"
      ],
      "metadata": {
        "id": "Wr57hSROP_Ck"
      },
      "execution_count": null,
      "outputs": []
    },
    {
      "cell_type": "markdown",
      "source": [
        "Creating frames"
      ],
      "metadata": {
        "id": "dd_YkDUbQtFe"
      }
    },
    {
      "cell_type": "code",
      "source": [
        "# frame\n",
        "frames = 0"
      ],
      "metadata": {
        "id": "qmFiK_fwQJk9"
      },
      "execution_count": null,
      "outputs": []
    },
    {
      "cell_type": "markdown",
      "source": [
        "Extracting the frames"
      ],
      "metadata": {
        "id": "SMCks0kzQxJQ"
      }
    },
    {
      "cell_type": "code",
      "source": [
        "while(True):\n",
        "\n",
        "    # reading from frame\n",
        "    ret,frame = capturing.read()#will return true if frame exists\n",
        "\n",
        "    if ret:\n",
        "        # if video is still left continue creating images\n",
        "        name = './data frames/frame' + str(frames) + '.jpg'\n",
        "        print ('Creating...' + name)\n",
        "\n",
        "        # writing the extracted images\n",
        "        cv2.imwrite(name, frame)\n",
        "\n",
        "        # increasing counter so that it will\n",
        "        # show how many frames are created\n",
        "        frames += 1\n",
        "    else:\n",
        "        break\n",
        "\n"
      ],
      "metadata": {
        "id": "BfHAAuJiQSdq"
      },
      "execution_count": null,
      "outputs": []
    },
    {
      "cell_type": "markdown",
      "source": [],
      "metadata": {
        "id": "yeXpVqtuRNMH"
      }
    },
    {
      "cell_type": "code",
      "source": [
        "# Release all space and windows once done\n",
        "capturing.release()\n",
        "cv2.destroyAllWindows()"
      ],
      "metadata": {
        "id": "rNgParBRQURQ"
      },
      "execution_count": null,
      "outputs": []
    }
  ]
}